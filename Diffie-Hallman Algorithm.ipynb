{
 "cells": [
  {
   "cell_type": "code",
   "execution_count": 2,
   "id": "dad237f1",
   "metadata": {},
   "outputs": [],
   "source": [
    "from random import randint\n",
    "from sympy import primitive_root,randprime\n",
    "# Choose the value p and g.\n",
    "\n",
    "p = randprime(100,1000)\n",
    "g = primitive_root(p)"
   ]
  },
  {
   "cell_type": "code",
   "execution_count": 3,
   "id": "cbf98284",
   "metadata": {},
   "outputs": [],
   "source": [
    "# Choose the value x and y.\n",
    "\n",
    "x = randint(2,p-1)\n",
    "y = randint(2,p-1)"
   ]
  },
  {
   "cell_type": "code",
   "execution_count": 4,
   "id": "4b90964a",
   "metadata": {},
   "outputs": [],
   "source": [
    "# Calculate R1,R2\n",
    "\n",
    "R1 = pow(g,x) % p\n",
    "R2 = pow(g,y) % p"
   ]
  },
  {
   "cell_type": "code",
   "execution_count": 6,
   "id": "6fe47f3a",
   "metadata": {},
   "outputs": [],
   "source": [
    "x1 = pow(R2,x) % p\n",
    "x2 = pow(R1,y) % p"
   ]
  },
  {
   "cell_type": "code",
   "execution_count": null,
   "id": "6fcdedbc",
   "metadata": {},
   "outputs": [],
   "source": [
    "print(\"The symmetric key is :\")"
   ]
  }
 ],
 "metadata": {
  "kernelspec": {
   "display_name": "Python 3 (ipykernel)",
   "language": "python",
   "name": "python3"
  },
  "language_info": {
   "codemirror_mode": {
    "name": "ipython",
    "version": 3
   },
   "file_extension": ".py",
   "mimetype": "text/x-python",
   "name": "python",
   "nbconvert_exporter": "python",
   "pygments_lexer": "ipython3",
   "version": "3.11.1"
  },
  "varInspector": {
   "cols": {
    "lenName": 16,
    "lenType": 16,
    "lenVar": 40
   },
   "kernels_config": {
    "python": {
     "delete_cmd_postfix": "",
     "delete_cmd_prefix": "del ",
     "library": "var_list.py",
     "varRefreshCmd": "print(var_dic_list())"
    },
    "r": {
     "delete_cmd_postfix": ") ",
     "delete_cmd_prefix": "rm(",
     "library": "var_list.r",
     "varRefreshCmd": "cat(var_dic_list()) "
    }
   },
   "types_to_exclude": [
    "module",
    "function",
    "builtin_function_or_method",
    "instance",
    "_Feature"
   ],
   "window_display": false
  }
 },
 "nbformat": 4,
 "nbformat_minor": 5
}
