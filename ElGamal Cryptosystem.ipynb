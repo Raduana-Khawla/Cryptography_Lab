{
 "cells": [
  {
   "cell_type": "code",
   "execution_count": 2,
   "id": "84c2efa7",
   "metadata": {},
   "outputs": [],
   "source": [
    "import random\n",
    "from sympy import randprime,primitive_root\n",
    "# Input.\n",
    "plaintext =\"naib\""
   ]
  },
  {
   "cell_type": "code",
   "execution_count": 3,
   "id": "023e219f",
   "metadata": {},
   "outputs": [],
   "source": [
    "p = randprime(10**3,2000)\n",
    "e1 = primitive_root(p)\n",
    "d = random.randint(2,p-1)\n",
    "e2 = pow(e1,d) % p\n",
    "\n",
    "r = random.randint(2,p-1)"
   ]
  },
  {
   "cell_type": "code",
   "execution_count": 4,
   "id": "2ed431cc",
   "metadata": {},
   "outputs": [
    {
     "name": "stdout",
     "output_type": "stream",
     "text": [
      "The corresponding ciphertext is : FAUW\n"
     ]
    }
   ],
   "source": [
    "# Encryption.\n",
    "ciphertext =\"\"\n",
    "ciphertextPair=[]\n",
    "\n",
    "for i in range(len(plaintext)):\n",
    "    num = ord(plaintext[i])\n",
    "    \n",
    "    c1 = pow(e1,r) % p\n",
    "    c2 = (num*pow(e2,r)) % p\n",
    "    \n",
    "    value=str(c1)+\",\"+str(c2)\n",
    "    ciphertextPair.append((c1,c2))\n",
    "    ciphertext += chr((c2%26)+65)\n",
    "    \n",
    "print(\"The corresponding ciphertext is :\",ciphertext)"
   ]
  },
  {
   "cell_type": "code",
   "execution_count": 5,
   "id": "a10fc8c7",
   "metadata": {},
   "outputs": [
    {
     "name": "stdout",
     "output_type": "stream",
     "text": [
      "The corresponding plaintext is : naib\n"
     ]
    }
   ],
   "source": [
    "# Decryption.\n",
    "\n",
    "plaintext =\"\"\n",
    "\n",
    "for i in range(len(ciphertext)):\n",
    "    c1 = ciphertextPair[i][0]\n",
    "    c2 = ciphertextPair[i][1]\n",
    "    \n",
    "    num = pow(c1,d)\n",
    "    value = (c2*pow(num,-1,p)) % p\n",
    "    \n",
    "    plaintext += chr(value)\n",
    "    \n",
    "print(\"The corresponding plaintext is :\",plaintext)"
   ]
  }
 ],
 "metadata": {
  "kernelspec": {
   "display_name": "Python 3 (ipykernel)",
   "language": "python",
   "name": "python3"
  },
  "language_info": {
   "codemirror_mode": {
    "name": "ipython",
    "version": 3
   },
   "file_extension": ".py",
   "mimetype": "text/x-python",
   "name": "python",
   "nbconvert_exporter": "python",
   "pygments_lexer": "ipython3",
   "version": "3.11.1"
  },
  "varInspector": {
   "cols": {
    "lenName": 16,
    "lenType": 16,
    "lenVar": 40
   },
   "kernels_config": {
    "python": {
     "delete_cmd_postfix": "",
     "delete_cmd_prefix": "del ",
     "library": "var_list.py",
     "varRefreshCmd": "print(var_dic_list())"
    },
    "r": {
     "delete_cmd_postfix": ") ",
     "delete_cmd_prefix": "rm(",
     "library": "var_list.r",
     "varRefreshCmd": "cat(var_dic_list()) "
    }
   },
   "types_to_exclude": [
    "module",
    "function",
    "builtin_function_or_method",
    "instance",
    "_Feature"
   ],
   "window_display": false
  }
 },
 "nbformat": 4,
 "nbformat_minor": 5
}
