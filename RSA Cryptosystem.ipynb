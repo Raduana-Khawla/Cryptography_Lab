{
 "cells": [
  {
   "cell_type": "code",
   "execution_count": 1,
   "id": "cf240ea0",
   "metadata": {},
   "outputs": [],
   "source": [
    "import numpy as np\n",
    "from sympy import randprime\n",
    "# Input.\n",
    "plaintext = \"aminul\""
   ]
  },
  {
   "cell_type": "code",
   "execution_count": 2,
   "id": "d205828e",
   "metadata": {},
   "outputs": [],
   "source": [
    "# Key Generation.\n",
    "\n",
    "p = randprime(10**3,2**12)\n",
    "q = randprime(2,2**9)"
   ]
  },
  {
   "cell_type": "code",
   "execution_count": 3,
   "id": "e29431bd",
   "metadata": {},
   "outputs": [],
   "source": [
    "n = p*q\n",
    "phiN = (p-1)*(q-1)"
   ]
  },
  {
   "cell_type": "code",
   "execution_count": 4,
   "id": "eb15bee1",
   "metadata": {},
   "outputs": [],
   "source": [
    "e = randprime(2,10**2)\n",
    "while np.gcd(e,phiN) != 1:\n",
    "    e = randprime(2,10**2)"
   ]
  },
  {
   "cell_type": "code",
   "execution_count": 5,
   "id": "b310f201",
   "metadata": {},
   "outputs": [
    {
     "name": "stdout",
     "output_type": "stream",
     "text": [
      "306853\n"
     ]
    }
   ],
   "source": [
    "d = pow(e,-1,phiN)\n",
    "print(d)"
   ]
  },
  {
   "cell_type": "code",
   "execution_count": 9,
   "id": "767fb8cd",
   "metadata": {},
   "outputs": [
    {
     "name": "stdout",
     "output_type": "stream",
     "text": [
      "The corresponding ciphertext is : NLGQPS\n"
     ]
    }
   ],
   "source": [
    "# Encryption.\n",
    "ciphertext = \"\"\n",
    "printCipher = \"\"\n",
    "for i in range(len(plaintext)):\n",
    "    num = pow(ord(plaintext[i]),e) % n\n",
    "    ciphertext += chr(num)\n",
    "\n",
    "# This part is for display purpose.\n",
    "for i in range(len(ciphertext)):\n",
    "    value = (ord(ciphertext[i]) % 26) + 65\n",
    "    printCipher += chr(value)\n",
    "\n",
    "print(\"The corresponding ciphertext is :\",printCipher)"
   ]
  },
  {
   "cell_type": "code",
   "execution_count": 10,
   "id": "e8797ba0",
   "metadata": {},
   "outputs": [
    {
     "name": "stdout",
     "output_type": "stream",
     "text": [
      "The corresponding plaintext is : aminul\n"
     ]
    }
   ],
   "source": [
    "# Decryption.\n",
    "\n",
    "plaintext =\"\"\n",
    "\n",
    "for i in range(len(ciphertext)):\n",
    "    num = pow(ord(ciphertext[i]),d) % n\n",
    "    plaintext += chr(num)\n",
    "    \n",
    "print(\"The corresponding plaintext is :\",plaintext)"
   ]
  }
 ],
 "metadata": {
  "kernelspec": {
   "display_name": "Python 3 (ipykernel)",
   "language": "python",
   "name": "python3"
  },
  "language_info": {
   "codemirror_mode": {
    "name": "ipython",
    "version": 3
   },
   "file_extension": ".py",
   "mimetype": "text/x-python",
   "name": "python",
   "nbconvert_exporter": "python",
   "pygments_lexer": "ipython3",
   "version": "3.11.1"
  },
  "varInspector": {
   "cols": {
    "lenName": 16,
    "lenType": 16,
    "lenVar": 40
   },
   "kernels_config": {
    "python": {
     "delete_cmd_postfix": "",
     "delete_cmd_prefix": "del ",
     "library": "var_list.py",
     "varRefreshCmd": "print(var_dic_list())"
    },
    "r": {
     "delete_cmd_postfix": ") ",
     "delete_cmd_prefix": "rm(",
     "library": "var_list.r",
     "varRefreshCmd": "cat(var_dic_list()) "
    }
   },
   "types_to_exclude": [
    "module",
    "function",
    "builtin_function_or_method",
    "instance",
    "_Feature"
   ],
   "window_display": false
  }
 },
 "nbformat": 4,
 "nbformat_minor": 5
}
