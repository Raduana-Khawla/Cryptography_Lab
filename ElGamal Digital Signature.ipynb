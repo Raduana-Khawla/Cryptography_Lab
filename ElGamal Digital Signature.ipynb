{
 "cells": [
  {
   "cell_type": "code",
   "execution_count": 17,
   "id": "b40cd8d3",
   "metadata": {},
   "outputs": [],
   "source": [
    "from random import randint\n",
    "from sympy import randprime,primitive_root\n",
    "# Input.\n",
    "plaintext = \"aminul\""
   ]
  },
  {
   "cell_type": "code",
   "execution_count": 18,
   "id": "32f3f59d",
   "metadata": {},
   "outputs": [],
   "source": [
    "# key generation.\n",
    "\n",
    "p = randprime(1000,2500)\n",
    "e1 = primitive_root(p)\n",
    "d = randint(2,p-1)\n",
    "e2 = pow(e1,d) % p"
   ]
  },
  {
   "cell_type": "code",
   "execution_count": 19,
   "id": "cb94e7e7",
   "metadata": {},
   "outputs": [],
   "source": [
    "r = randint(2,p-1)\n",
    "while np.gcd(r,p-1) != 1:\n",
    "    r = randint(2,p-1)\n",
    "\n",
    "inverseR = pow(r,-1,p-1)"
   ]
  },
  {
   "cell_type": "code",
   "execution_count": 20,
   "id": "99ef04b9",
   "metadata": {},
   "outputs": [
    {
     "name": "stdout",
     "output_type": "stream",
     "text": [
      "The signature of the document is : JZJPJHJGJFJG\n"
     ]
    }
   ],
   "source": [
    "# Signing.\n",
    "\n",
    "sign =\"\"\n",
    "signPair =[]\n",
    "\n",
    "for i in range(len(plaintext)):\n",
    "    num = ord(plaintext[i])\n",
    "    \n",
    "    s1 = pow(e1,r) % p\n",
    "    s2 = ((num - (d*s1))*inverseR) % (p-1)\n",
    "    \n",
    "    sign += chr((s1%26)+65)\n",
    "    sign += chr((s2%26)+65)\n",
    "    \n",
    "    signPair.append((s1,s2))\n",
    "    \n",
    "print(\"The signature of the document is :\",sign)"
   ]
  },
  {
   "cell_type": "code",
   "execution_count": 26,
   "id": "609016ab",
   "metadata": {},
   "outputs": [
    {
     "name": "stdout",
     "output_type": "stream",
     "text": [
      "Verified Signature\n"
     ]
    }
   ],
   "source": [
    "# Verify.\n",
    "\n",
    "verify1 =\"\"\n",
    "verify2 =\"\"\n",
    "\n",
    "for i in range(len(plaintext)):\n",
    "    s1 = signPair[i][0]\n",
    "    s2 =  signPair[i][1]\n",
    "    \n",
    "    num = ord(plaintext[i])\n",
    "    \n",
    "    v1 = pow(e1,num) % p\n",
    "    v2 = (pow(e2,s1)*pow(s1,s2)) % p\n",
    "    verify1 += chr(v1)\n",
    "    verify2 += chr(v2)\n",
    "    \n",
    "if v1 == v2:\n",
    "    print(\"Verified Signature\")\n",
    "else:\n",
    "    print(\"Forge Signature\")"
   ]
  }
 ],
 "metadata": {
  "kernelspec": {
   "display_name": "Python 3 (ipykernel)",
   "language": "python",
   "name": "python3"
  },
  "language_info": {
   "codemirror_mode": {
    "name": "ipython",
    "version": 3
   },
   "file_extension": ".py",
   "mimetype": "text/x-python",
   "name": "python",
   "nbconvert_exporter": "python",
   "pygments_lexer": "ipython3",
   "version": "3.11.1"
  },
  "varInspector": {
   "cols": {
    "lenName": 16,
    "lenType": 16,
    "lenVar": 40
   },
   "kernels_config": {
    "python": {
     "delete_cmd_postfix": "",
     "delete_cmd_prefix": "del ",
     "library": "var_list.py",
     "varRefreshCmd": "print(var_dic_list())"
    },
    "r": {
     "delete_cmd_postfix": ") ",
     "delete_cmd_prefix": "rm(",
     "library": "var_list.r",
     "varRefreshCmd": "cat(var_dic_list()) "
    }
   },
   "types_to_exclude": [
    "module",
    "function",
    "builtin_function_or_method",
    "instance",
    "_Feature"
   ],
   "window_display": false
  }
 },
 "nbformat": 4,
 "nbformat_minor": 5
}
