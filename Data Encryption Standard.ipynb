{
 "cells": [
  {
   "cell_type": "code",
   "execution_count": 49,
   "id": "63c49623",
   "metadata": {},
   "outputs": [],
   "source": [
    "import base64\n",
    "from Crypto.Cipher import DES"
   ]
  },
  {
   "cell_type": "code",
   "execution_count": 50,
   "id": "3aa0464b",
   "metadata": {},
   "outputs": [],
   "source": [
    "key = \"hello123\""
   ]
  },
  {
   "cell_type": "code",
   "execution_count": 51,
   "id": "0fba201a",
   "metadata": {},
   "outputs": [],
   "source": [
    "plaintext = \"Aminul Islam Rafi\"\n",
    "while len(plaintext)%8 !=0:\n",
    "    plaintext+=\"z\""
   ]
  },
  {
   "cell_type": "code",
   "execution_count": 52,
   "id": "4bbecbfa",
   "metadata": {},
   "outputs": [],
   "source": [
    "cipher = DES.new(key.encode('utf-8'),DES.MODE_ECB)"
   ]
  },
  {
   "cell_type": "code",
   "execution_count": 53,
   "id": "3a5b19cc",
   "metadata": {},
   "outputs": [],
   "source": [
    "ciphertext = cipher.encrypt(plaintext.encode('utf-8'))"
   ]
  },
  {
   "cell_type": "code",
   "execution_count": 54,
   "id": "3d7040d0",
   "metadata": {},
   "outputs": [
    {
     "name": "stdout",
     "output_type": "stream",
     "text": [
      "+Vxl62kJrcP8knQS3Xps6JduLVZrx0+I\n"
     ]
    }
   ],
   "source": [
    "print(base64.b64encode(ciphertext).decode())"
   ]
  },
  {
   "cell_type": "code",
   "execution_count": 55,
   "id": "c0d93ee3",
   "metadata": {},
   "outputs": [],
   "source": [
    "# Decryption.\n",
    "cipher = DES.new(key.encode('utf-8'),DES.MODE_ECB)"
   ]
  },
  {
   "cell_type": "code",
   "execution_count": 56,
   "id": "27ec9bed",
   "metadata": {},
   "outputs": [],
   "source": [
    "plaintext = cipher.decrypt(ciphertext)"
   ]
  },
  {
   "cell_type": "code",
   "execution_count": 57,
   "id": "e6723cec",
   "metadata": {},
   "outputs": [
    {
     "name": "stdout",
     "output_type": "stream",
     "text": [
      "QW1pbnVsIElzbGFtIFJhZml6enp6enp6\n"
     ]
    }
   ],
   "source": [
    "print(base64.b64encode(plaintext).decode())"
   ]
  },
  {
   "cell_type": "code",
   "execution_count": null,
   "id": "da506efb",
   "metadata": {},
   "outputs": [],
   "source": []
  }
 ],
 "metadata": {
  "kernelspec": {
   "display_name": "Python 3 (ipykernel)",
   "language": "python",
   "name": "python3"
  },
  "language_info": {
   "codemirror_mode": {
    "name": "ipython",
    "version": 3
   },
   "file_extension": ".py",
   "mimetype": "text/x-python",
   "name": "python",
   "nbconvert_exporter": "python",
   "pygments_lexer": "ipython3",
   "version": "3.11.1"
  },
  "varInspector": {
   "cols": {
    "lenName": 16,
    "lenType": 16,
    "lenVar": 40
   },
   "kernels_config": {
    "python": {
     "delete_cmd_postfix": "",
     "delete_cmd_prefix": "del ",
     "library": "var_list.py",
     "varRefreshCmd": "print(var_dic_list())"
    },
    "r": {
     "delete_cmd_postfix": ") ",
     "delete_cmd_prefix": "rm(",
     "library": "var_list.r",
     "varRefreshCmd": "cat(var_dic_list()) "
    }
   },
   "types_to_exclude": [
    "module",
    "function",
    "builtin_function_or_method",
    "instance",
    "_Feature"
   ],
   "window_display": false
  }
 },
 "nbformat": 4,
 "nbformat_minor": 5
}
