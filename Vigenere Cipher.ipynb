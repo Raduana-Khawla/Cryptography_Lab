{
 "cells": [
  {
   "cell_type": "code",
   "execution_count": 10,
   "id": "e770a748",
   "metadata": {},
   "outputs": [],
   "source": [
    "# Input.\n",
    "plaintext =\"mow\"\n",
    "# key.\n",
    "key = \"key\""
   ]
  },
  {
   "cell_type": "code",
   "execution_count": 8,
   "id": "282aec4e",
   "metadata": {},
   "outputs": [
    {
     "name": "stdout",
     "output_type": "stream",
     "text": [
      "The corresponding ciphertext is : KQGXYJ\n"
     ]
    }
   ],
   "source": [
    "# Key Generation.\n",
    "\n",
    "keyStream =[]\n",
    "for i in range(len(plaintext)):\n",
    "    num = ord(key[i % len(key)]) - 97\n",
    "    keyStream.append(num)\n",
    "\n",
    "# Encryption.\n",
    "\n",
    "ciphertext = \"\"\n",
    "for i in range(len(plaintext)):\n",
    "    num = ord(plaintext[i]) - 97\n",
    "    value = (num + keyStream[i]) % 26\n",
    "    ciphertext += chr(value+65)\n",
    "\n",
    "print(\"The corresponding ciphertext is :\",ciphertext)"
   ]
  },
  {
   "cell_type": "code",
   "execution_count": 9,
   "id": "fe8cb390",
   "metadata": {},
   "outputs": [
    {
     "name": "stdout",
     "output_type": "stream",
     "text": [
      "The corresponding plaintext is : aminul\n"
     ]
    }
   ],
   "source": [
    "# Decryption.\n",
    " \n",
    "plaintext = \"\"\n",
    "for i in range(len(ciphertext)):\n",
    "    num = ord(ciphertext[i]) - 65\n",
    "    value = (num - keyStream[i]) % 26\n",
    "    plaintext += chr(value+97)\n",
    "\n",
    "print(\"The corresponding plaintext is :\",plaintext)"
   ]
  }
 ],
 "metadata": {
  "kernelspec": {
   "display_name": "Python 3 (ipykernel)",
   "language": "python",
   "name": "python3"
  },
  "language_info": {
   "codemirror_mode": {
    "name": "ipython",
    "version": 3
   },
   "file_extension": ".py",
   "mimetype": "text/x-python",
   "name": "python",
   "nbconvert_exporter": "python",
   "pygments_lexer": "ipython3",
   "version": "3.11.1"
  },
  "varInspector": {
   "cols": {
    "lenName": 16,
    "lenType": 16,
    "lenVar": 40
   },
   "kernels_config": {
    "python": {
     "delete_cmd_postfix": "",
     "delete_cmd_prefix": "del ",
     "library": "var_list.py",
     "varRefreshCmd": "print(var_dic_list())"
    },
    "r": {
     "delete_cmd_postfix": ") ",
     "delete_cmd_prefix": "rm(",
     "library": "var_list.r",
     "varRefreshCmd": "cat(var_dic_list()) "
    }
   },
   "types_to_exclude": [
    "module",
    "function",
    "builtin_function_or_method",
    "instance",
    "_Feature"
   ],
   "window_display": false
  }
 },
 "nbformat": 4,
 "nbformat_minor": 5
}
