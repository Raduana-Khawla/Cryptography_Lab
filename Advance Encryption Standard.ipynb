{
 "cells": [
  {
   "cell_type": "code",
   "execution_count": 17,
   "id": "956b259c",
   "metadata": {},
   "outputs": [],
   "source": [
    "import base64\n",
    "from Crypto.Cipher import AES\n",
    "from random import randbytes"
   ]
  },
  {
   "cell_type": "code",
   "execution_count": 18,
   "id": "2d9dc0a4",
   "metadata": {},
   "outputs": [],
   "source": [
    "plaintext =b\"aminul islam rafi\"\n",
    "key = randbytes(16)"
   ]
  },
  {
   "cell_type": "code",
   "execution_count": 19,
   "id": "7d795cec",
   "metadata": {},
   "outputs": [],
   "source": [
    "cipher = AES.new(key,AES.MODE_EAX)"
   ]
  },
  {
   "cell_type": "code",
   "execution_count": 20,
   "id": "9d0b2bae",
   "metadata": {},
   "outputs": [],
   "source": [
    "ciphertext,tag = cipher.encrypt_and_digest(plaintext)"
   ]
  },
  {
   "cell_type": "code",
   "execution_count": 21,
   "id": "d5dfbfe2",
   "metadata": {},
   "outputs": [
    {
     "name": "stdout",
     "output_type": "stream",
     "text": [
      "WNvYy7S1VQdwC/fxu/l4sKs=\n"
     ]
    }
   ],
   "source": [
    "print(base64.b64encode(ciphertext).decode())"
   ]
  },
  {
   "cell_type": "code",
   "execution_count": 22,
   "id": "9c7b7329",
   "metadata": {},
   "outputs": [],
   "source": [
    "cipher = AES.new(key,AES.MODE_EAX,cipher.nonce)"
   ]
  },
  {
   "cell_type": "code",
   "execution_count": 23,
   "id": "674f1b60",
   "metadata": {},
   "outputs": [],
   "source": [
    "decryption = cipher.decrypt_and_verify(ciphertext,tag)"
   ]
  },
  {
   "cell_type": "code",
   "execution_count": 24,
   "id": "38a8f54b",
   "metadata": {},
   "outputs": [
    {
     "name": "stdout",
     "output_type": "stream",
     "text": [
      "aminul islam rafi\n"
     ]
    }
   ],
   "source": [
    "print(decryption.decode())"
   ]
  }
 ],
 "metadata": {
  "kernelspec": {
   "display_name": "Python 3 (ipykernel)",
   "language": "python",
   "name": "python3"
  },
  "language_info": {
   "codemirror_mode": {
    "name": "ipython",
    "version": 3
   },
   "file_extension": ".py",
   "mimetype": "text/x-python",
   "name": "python",
   "nbconvert_exporter": "python",
   "pygments_lexer": "ipython3",
   "version": "3.11.1"
  },
  "varInspector": {
   "cols": {
    "lenName": 16,
    "lenType": 16,
    "lenVar": 40
   },
   "kernels_config": {
    "python": {
     "delete_cmd_postfix": "",
     "delete_cmd_prefix": "del ",
     "library": "var_list.py",
     "varRefreshCmd": "print(var_dic_list())"
    },
    "r": {
     "delete_cmd_postfix": ") ",
     "delete_cmd_prefix": "rm(",
     "library": "var_list.r",
     "varRefreshCmd": "cat(var_dic_list()) "
    }
   },
   "types_to_exclude": [
    "module",
    "function",
    "builtin_function_or_method",
    "instance",
    "_Feature"
   ],
   "window_display": false
  }
 },
 "nbformat": 4,
 "nbformat_minor": 5
}
