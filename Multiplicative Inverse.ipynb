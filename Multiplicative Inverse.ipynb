{
 "cells": [
  {
   "cell_type": "code",
   "execution_count": 15,
   "id": "e1e8d08c",
   "metadata": {},
   "outputs": [],
   "source": [
    "# Input.\n",
    "n = 26\n",
    "copyn = 26\n",
    "d = 5\n",
    "copyd = 7"
   ]
  },
  {
   "cell_type": "code",
   "execution_count": 16,
   "id": "6d66dfb8",
   "metadata": {},
   "outputs": [
    {
     "name": "stdout",
     "output_type": "stream",
     "text": [
      "   5    26    5    1       0    1    -5\n",
      "   5    5    1    0       1    -5    26\n",
      "The multiplicative inverse of  7  and  26  is : 21\n"
     ]
    }
   ],
   "source": [
    "# Algorithm.\n",
    "\n",
    "t1 = 0\n",
    "t2 = 1\n",
    "\n",
    "while d != 0:\n",
    "    q = n // d\n",
    "    r = n % d\n",
    "    \n",
    "    t = t1 - (q*t2)\n",
    "    print(\"  \",q,\"  \",n,\"  \",d,\"  \",r,\"  \",\"  \",t1,\"  \",t2,\"  \",t)\n",
    "    n = d\n",
    "    d = r\n",
    "    \n",
    "    t1 = t2\n",
    "    t2 = t\n",
    "\n",
    "if(n == 1):\n",
    "    \n",
    "    inverse = t1\n",
    "    if inverse < 0:\n",
    "        inverse = copyn + inverse\n",
    "              \n",
    "    print(\"The multiplicative inverse of \",copyd,\" and \",copyn,\" is :\",inverse)\n",
    "    \n",
    "else:\n",
    "    \n",
    "    print(\"Multiplicative inverse not exist\")"
   ]
  }
 ],
 "metadata": {
  "kernelspec": {
   "display_name": "Python 3 (ipykernel)",
   "language": "python",
   "name": "python3"
  },
  "language_info": {
   "codemirror_mode": {
    "name": "ipython",
    "version": 3
   },
   "file_extension": ".py",
   "mimetype": "text/x-python",
   "name": "python",
   "nbconvert_exporter": "python",
   "pygments_lexer": "ipython3",
   "version": "3.11.1"
  },
  "varInspector": {
   "cols": {
    "lenName": 16,
    "lenType": 16,
    "lenVar": 40
   },
   "kernels_config": {
    "python": {
     "delete_cmd_postfix": "",
     "delete_cmd_prefix": "del ",
     "library": "var_list.py",
     "varRefreshCmd": "print(var_dic_list())"
    },
    "r": {
     "delete_cmd_postfix": ") ",
     "delete_cmd_prefix": "rm(",
     "library": "var_list.r",
     "varRefreshCmd": "cat(var_dic_list()) "
    }
   },
   "types_to_exclude": [
    "module",
    "function",
    "builtin_function_or_method",
    "instance",
    "_Feature"
   ],
   "window_display": false
  }
 },
 "nbformat": 4,
 "nbformat_minor": 5
}
