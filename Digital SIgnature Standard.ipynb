{
 "cells": [
  {
   "cell_type": "code",
   "execution_count": 97,
   "id": "7b1bfe67",
   "metadata": {},
   "outputs": [],
   "source": [
    "import numpy as np\n",
    "from random import randint\n",
    "from sympy import randprime,primitive_root\n",
    "# Input.\n",
    "plaintext = \"yami\""
   ]
  },
  {
   "cell_type": "code",
   "execution_count": 98,
   "id": "c000d1e1",
   "metadata": {},
   "outputs": [],
   "source": [
    "p = 47 # randprime(100,2500)\n",
    "e0 = 3 # primitive_root(p)\n",
    "\n",
    "d = 7 #randint(2,p-1)"
   ]
  },
  {
   "cell_type": "code",
   "execution_count": 99,
   "id": "41f268d9",
   "metadata": {},
   "outputs": [],
   "source": [
    "q = 23 #randint(2,100)\n",
    "while (p-1) % q !=0:\n",
    "    q = randint(2,100)"
   ]
  },
  {
   "cell_type": "code",
   "execution_count": 100,
   "id": "96ddb9e2",
   "metadata": {},
   "outputs": [],
   "source": [
    "r = 13 # randint(2,100)\n",
    "while np.gcd(r,q) != 1:\n",
    "    r = randint(2,100)\n",
    "    \n",
    "inverseR = pow(r,-1,q)"
   ]
  },
  {
   "cell_type": "code",
   "execution_count": 101,
   "id": "853a57fd",
   "metadata": {},
   "outputs": [
    {
     "name": "stdout",
     "output_type": "stream",
     "text": [
      "47 23\n"
     ]
    }
   ],
   "source": [
    "e1 = pow(e0,((p-1)//q)) % p\n",
    "e2 = pow(e1,d) % p\n",
    "print(p,q)"
   ]
  },
  {
   "cell_type": "code",
   "execution_count": 102,
   "id": "2c9b1a5f",
   "metadata": {},
   "outputs": [
    {
     "name": "stdout",
     "output_type": "stream",
     "text": [
      "The correspoding sign is : \u0004\u0004\u0004\u0004\n"
     ]
    }
   ],
   "source": [
    "# Signing.\n",
    "\n",
    "sign =\"\"\n",
    "signPair =[]\n",
    "for i in range(len(plaintext)):\n",
    "    num = ord(plaintext[i])\n",
    "    s1 = (pow(e1,r) % p) % q\n",
    "    s2 = ((num + (d*s1))*inverseR) % q\n",
    "    sign += chr(s1)\n",
    "    signPair.append((s1,s2))\n",
    "    \n",
    "print(\"The correspoding sign is :\",sign)"
   ]
  },
  {
   "cell_type": "code",
   "execution_count": 103,
   "id": "0adfbe44",
   "metadata": {},
   "outputs": [
    {
     "name": "stdout",
     "output_type": "stream",
     "text": [
      "Verified Signature\n"
     ]
    }
   ],
   "source": [
    "# Verify.\n",
    "\n",
    "verify =\"\"\n",
    "for i in range(len(plaintext)):\n",
    "    num = ord(plaintext[i])\n",
    "    s1 = signPair[i][0]\n",
    "    s2 = signPair[i][1]\n",
    "    \n",
    "    inverseS2 = pow(s2,-1,q)\n",
    "    t1 = num*inverseS2\n",
    "    t2 = s1*inverseS2\n",
    "    \n",
    "    value = (((pow(e1,t1)*pow(e2,t2)) % p ) % q)\n",
    "    verify += chr(value)\n",
    "\n",
    "if sign == verify:\n",
    "    print(\"Verified Signature\")\n",
    "else:\n",
    "    print(\"Forge Signature\")"
   ]
  }
 ],
 "metadata": {
  "kernelspec": {
   "display_name": "Python 3 (ipykernel)",
   "language": "python",
   "name": "python3"
  },
  "language_info": {
   "codemirror_mode": {
    "name": "ipython",
    "version": 3
   },
   "file_extension": ".py",
   "mimetype": "text/x-python",
   "name": "python",
   "nbconvert_exporter": "python",
   "pygments_lexer": "ipython3",
   "version": "3.11.1"
  },
  "varInspector": {
   "cols": {
    "lenName": 16,
    "lenType": 16,
    "lenVar": 40
   },
   "kernels_config": {
    "python": {
     "delete_cmd_postfix": "",
     "delete_cmd_prefix": "del ",
     "library": "var_list.py",
     "varRefreshCmd": "print(var_dic_list())"
    },
    "r": {
     "delete_cmd_postfix": ") ",
     "delete_cmd_prefix": "rm(",
     "library": "var_list.r",
     "varRefreshCmd": "cat(var_dic_list()) "
    }
   },
   "types_to_exclude": [
    "module",
    "function",
    "builtin_function_or_method",
    "instance",
    "_Feature"
   ],
   "window_display": false
  }
 },
 "nbformat": 4,
 "nbformat_minor": 5
}
