{
 "cells": [
  {
   "cell_type": "code",
   "execution_count": 13,
   "id": "cdf76626",
   "metadata": {},
   "outputs": [],
   "source": [
    "# Input.\n",
    "plaintext =\"aminul islam rafi\"\n",
    "\n",
    "# key.\n",
    "key =[4,2,3,1,0]"
   ]
  },
  {
   "cell_type": "code",
   "execution_count": 14,
   "id": "d5dc1fa5",
   "metadata": {},
   "outputs": [],
   "source": [
    "# Adding bodug letter.\n",
    "\n",
    "col = len(key)\n",
    "\n",
    "while len(plaintext) % col != 0:\n",
    "    plaintext += \"z\"\n",
    "    \n",
    "row = len(plaintext)//col"
   ]
  },
  {
   "cell_type": "code",
   "execution_count": 15,
   "id": "4ba3de49",
   "metadata": {},
   "outputs": [],
   "source": [
    "# Creating key matrix.\n",
    "\n",
    "keyMatrix = np.zeros((col,col),dtype=int)\n",
    "\n",
    "for i in range(col):\n",
    "    keyMatrix[key[i]][i] = 1\n",
    "\n",
    "inverseKeyMatrix = np.transpose(keyMatrix)"
   ]
  },
  {
   "cell_type": "code",
   "execution_count": 16,
   "id": "a84d5c5a",
   "metadata": {},
   "outputs": [
    {
     "name": "stdout",
     "output_type": "stream",
     "text": [
      "The corresponding ciphertext is : ULAZII\u0000ZNSRZM\u0000MIALAF\n"
     ]
    }
   ],
   "source": [
    "# Encryption.\n",
    "\n",
    "k = 0\n",
    "ciphertext =\"\"\n",
    "plainMatrix = np.zeros((row,col),dtype=int)\n",
    "\n",
    "for i in range(row):\n",
    "    for j in range(col):\n",
    "        plainMatrix[i][j] = ord(plaintext[k]) - 97\n",
    "        k += 1\n",
    "\n",
    "result = np.matmul(plainMatrix,keyMatrix)\n",
    "\n",
    "for i in range(col):\n",
    "    for j in range(row):\n",
    "        ciphertext += chr(result[j][i]+65)\n",
    "\n",
    "print(\"The corresponding ciphertext is :\",ciphertext)"
   ]
  },
  {
   "cell_type": "code",
   "execution_count": 17,
   "id": "3dad10a4",
   "metadata": {},
   "outputs": [],
   "source": [
    "# Decryption.\n",
    "\n",
    "k = 0\n",
    "plaintext =\"\"\n",
    "cipherMatrix = np.zeros((row,col),dtype=int)\n",
    "\n",
    "for i in range(col):\n",
    "    for j in range(row):\n",
    "        cipherMatrix[j][i] = ord(ciphertext[k]) - 65\n",
    "        k += 1\n",
    "\n",
    "result = np.matmul(cipherMatrix,inverseKeyMatrix)\n"
   ]
  }
 ],
 "metadata": {
  "kernelspec": {
   "display_name": "Python 3 (ipykernel)",
   "language": "python",
   "name": "python3"
  },
  "language_info": {
   "codemirror_mode": {
    "name": "ipython",
    "version": 3
   },
   "file_extension": ".py",
   "mimetype": "text/x-python",
   "name": "python",
   "nbconvert_exporter": "python",
   "pygments_lexer": "ipython3",
   "version": "3.11.1"
  },
  "varInspector": {
   "cols": {
    "lenName": 16,
    "lenType": 16,
    "lenVar": 40
   },
   "kernels_config": {
    "python": {
     "delete_cmd_postfix": "",
     "delete_cmd_prefix": "del ",
     "library": "var_list.py",
     "varRefreshCmd": "print(var_dic_list())"
    },
    "r": {
     "delete_cmd_postfix": ") ",
     "delete_cmd_prefix": "rm(",
     "library": "var_list.r",
     "varRefreshCmd": "cat(var_dic_list()) "
    }
   },
   "types_to_exclude": [
    "module",
    "function",
    "builtin_function_or_method",
    "instance",
    "_Feature"
   ],
   "window_display": false
  }
 },
 "nbformat": 4,
 "nbformat_minor": 5
}
