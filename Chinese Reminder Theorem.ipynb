{
 "cells": [
  {
   "cell_type": "code",
   "execution_count": 18,
   "id": "9cb63633",
   "metadata": {},
   "outputs": [
    {
     "name": "stdout",
     "output_type": "stream",
     "text": [
      "Enter value for b1:1\n",
      "Enter value for n1:23\n",
      "Enter value for b2:4\n",
      "Enter value for n2:7\n"
     ]
    }
   ],
   "source": [
    "# Take the number of the input coffecient.\n",
    "\n",
    "b1 = int(input(\"Enter value for b1:\"))\n",
    "n1 = int(input(\"Enter value for n1:\"))\n",
    "b2 = int(input(\"Enter value for b2:\"))\n",
    "n2 = int(input(\"Enter value for n2:\"))"
   ]
  },
  {
   "cell_type": "code",
   "execution_count": 19,
   "id": "e6498e62",
   "metadata": {},
   "outputs": [
    {
     "name": "stdout",
     "output_type": "stream",
     "text": [
      "7 23\n"
     ]
    }
   ],
   "source": [
    "M = n1*n2\n",
    "M1 = M // n1\n",
    "M2 = M // n2"
   ]
  },
  {
   "cell_type": "code",
   "execution_count": 21,
   "id": "49c04315",
   "metadata": {},
   "outputs": [],
   "source": [
    "inverseM1 = pow(M1,-1,n1)\n",
    "inverseM2 = pow(M2,-1,n2)"
   ]
  },
  {
   "cell_type": "code",
   "execution_count": null,
   "id": "3cd647d5",
   "metadata": {},
   "outputs": [],
   "source": [
    "p = b1*M1*inverseM1 + b2*M2*inverseM2)"
   ]
  }
 ],
 "metadata": {
  "kernelspec": {
   "display_name": "Python 3 (ipykernel)",
   "language": "python",
   "name": "python3"
  },
  "language_info": {
   "codemirror_mode": {
    "name": "ipython",
    "version": 3
   },
   "file_extension": ".py",
   "mimetype": "text/x-python",
   "name": "python",
   "nbconvert_exporter": "python",
   "pygments_lexer": "ipython3",
   "version": "3.11.1"
  },
  "varInspector": {
   "cols": {
    "lenName": 16,
    "lenType": 16,
    "lenVar": 40
   },
   "kernels_config": {
    "python": {
     "delete_cmd_postfix": "",
     "delete_cmd_prefix": "del ",
     "library": "var_list.py",
     "varRefreshCmd": "print(var_dic_list())"
    },
    "r": {
     "delete_cmd_postfix": ") ",
     "delete_cmd_prefix": "rm(",
     "library": "var_list.r",
     "varRefreshCmd": "cat(var_dic_list()) "
    }
   },
   "types_to_exclude": [
    "module",
    "function",
    "builtin_function_or_method",
    "instance",
    "_Feature"
   ],
   "window_display": false
  }
 },
 "nbformat": 4,
 "nbformat_minor": 5
}
