{
 "cells": [
  {
   "cell_type": "code",
   "execution_count": 107,
   "id": "386bdae1",
   "metadata": {},
   "outputs": [],
   "source": [
    "from sympy import randprime\n",
    "from sympy.ntheory.modular import solve_congruence\n",
    "# Input.\n",
    "m = 17"
   ]
  },
  {
   "cell_type": "code",
   "execution_count": 108,
   "id": "070f8335",
   "metadata": {},
   "outputs": [],
   "source": [
    "p = randprime(4,100)\n",
    "\n",
    "while p%4 != 3:\n",
    "    p = randprime(4,100)\n",
    "\n",
    "q = randprime(105,1000)\n",
    "while q%4 != 3:\n",
    "    q = randprime(105,1000)"
   ]
  },
  {
   "cell_type": "code",
   "execution_count": 109,
   "id": "aa3b727d",
   "metadata": {},
   "outputs": [
    {
     "name": "stdout",
     "output_type": "stream",
     "text": [
      "6493\n"
     ]
    }
   ],
   "source": [
    "n = p*q\n",
    "print(n)"
   ]
  },
  {
   "cell_type": "code",
   "execution_count": 110,
   "id": "fb9e59db",
   "metadata": {},
   "outputs": [
    {
     "name": "stdout",
     "output_type": "stream",
     "text": [
      "The corresponding ciphertext is : ġ\n",
      "289\n"
     ]
    }
   ],
   "source": [
    "# Encryption.\n",
    "\n",
    "c = pow(m,2) % n\n",
    "print(\"The corresponding ciphertext is :\",chr(c))\n",
    "print(c)"
   ]
  },
  {
   "cell_type": "code",
   "execution_count": 111,
   "id": "b356d0b6",
   "metadata": {},
   "outputs": [
    {
     "name": "stdout",
     "output_type": "stream",
     "text": [
      "17 17 26 134\n"
     ]
    }
   ],
   "source": [
    "# Decryption.\n",
    "a1 = pow(c,((p+1)//4)) % p\n",
    "a2 = (-1*pow(c,((p+1)//4))) % p\n",
    "b1 = pow(c,((q+1)//4)) % q\n",
    "b2 = (-1*pow(c,((q+1)//4))) % q\n",
    "print(a1,b1,a2,b2)"
   ]
  },
  {
   "cell_type": "code",
   "execution_count": 112,
   "id": "a97beec7",
   "metadata": {},
   "outputs": [
    {
     "name": "stdout",
     "output_type": "stream",
     "text": [
      "17 3758 2735 6476\n"
     ]
    }
   ],
   "source": [
    "congruences =[(a1,p),(b1,q)]\n",
    "p1 = next(iter(solve_congruence(*congruences)))\n",
    "\n",
    "congruences =[(a1,p),(b2,q)]\n",
    "p2 = next(iter(solve_congruence(*congruences)))\n",
    "\n",
    "congruences =[(a2,p),(b1,q)]\n",
    "p3 = next(iter(solve_congruence(*congruences)))\n",
    "\n",
    "congruences =[(a2,p),(b2,q)]\n",
    "p4 = next(iter(solve_congruence(*congruences)))\n",
    "\n",
    "print(p1,p2,p3,p4)"
   ]
  }
 ],
 "metadata": {
  "kernelspec": {
   "display_name": "Python 3 (ipykernel)",
   "language": "python",
   "name": "python3"
  },
  "language_info": {
   "codemirror_mode": {
    "name": "ipython",
    "version": 3
   },
   "file_extension": ".py",
   "mimetype": "text/x-python",
   "name": "python",
   "nbconvert_exporter": "python",
   "pygments_lexer": "ipython3",
   "version": "3.11.1"
  },
  "varInspector": {
   "cols": {
    "lenName": 16,
    "lenType": 16,
    "lenVar": 40
   },
   "kernels_config": {
    "python": {
     "delete_cmd_postfix": "",
     "delete_cmd_prefix": "del ",
     "library": "var_list.py",
     "varRefreshCmd": "print(var_dic_list())"
    },
    "r": {
     "delete_cmd_postfix": ") ",
     "delete_cmd_prefix": "rm(",
     "library": "var_list.r",
     "varRefreshCmd": "cat(var_dic_list()) "
    }
   },
   "types_to_exclude": [
    "module",
    "function",
    "builtin_function_or_method",
    "instance",
    "_Feature"
   ],
   "window_display": false
  }
 },
 "nbformat": 4,
 "nbformat_minor": 5
}
