{
 "cells": [
  {
   "cell_type": "code",
   "execution_count": 50,
   "id": "ee553aa7",
   "metadata": {},
   "outputs": [],
   "source": [
    "from sympy import randprime\n",
    "# Input.\n",
    "\n",
    "plaintext = \"rafi\""
   ]
  },
  {
   "cell_type": "code",
   "execution_count": 51,
   "id": "09eac4de",
   "metadata": {},
   "outputs": [
    {
     "name": "stdout",
     "output_type": "stream",
     "text": [
      "773 1531\n"
     ]
    }
   ],
   "source": [
    "p = randprime(100,1000)\n",
    "q = randprime(1100,2000)\n",
    "print(p,q)"
   ]
  },
  {
   "cell_type": "code",
   "execution_count": 52,
   "id": "67325ffb",
   "metadata": {},
   "outputs": [],
   "source": [
    "n = p*q\n",
    "phiN = (p-1)*(q-1)"
   ]
  },
  {
   "cell_type": "code",
   "execution_count": 53,
   "id": "0e0eab1f",
   "metadata": {},
   "outputs": [],
   "source": [
    "e = randprime(2,100)\n",
    "while np.gcd(e,phiN) != 1:\n",
    "    e = randprime(2,100)"
   ]
  },
  {
   "cell_type": "code",
   "execution_count": 54,
   "id": "4a9782cd",
   "metadata": {},
   "outputs": [],
   "source": [
    "d = pow(e,-1,phiN)"
   ]
  },
  {
   "cell_type": "code",
   "execution_count": 55,
   "id": "689836f7",
   "metadata": {},
   "outputs": [
    {
     "name": "stdout",
     "output_type": "stream",
     "text": [
      "The signature of the sender is : CBJF\n"
     ]
    }
   ],
   "source": [
    "# Signing.\n",
    "\n",
    "sign =\"\"\n",
    "displaySign =\"\"\n",
    "for i in range(len(plaintext)):\n",
    "    num = ord(plaintext[i])\n",
    "    value = pow(num,d) % n\n",
    "    sign += chr(value)\n",
    "    displaySign += chr((value%26)+65)\n",
    "\n",
    "print(\"The signature of the sender is :\",displaySign)"
   ]
  },
  {
   "cell_type": "code",
   "execution_count": 56,
   "id": "9cd27559",
   "metadata": {},
   "outputs": [
    {
     "name": "stdout",
     "output_type": "stream",
     "text": [
      "Verified Signature\n"
     ]
    }
   ],
   "source": [
    "# Verification.\n",
    "\n",
    "verify =\"\"\n",
    "\n",
    "for i in range(len(sign)):\n",
    "    num = ord(sign[i])\n",
    "    value = pow(num,e) % n\n",
    "    verify += chr(value)\n",
    "    \n",
    "if plaintext == verify:\n",
    "    print(\"Verified Signature\")\n",
    "else:\n",
    "    print(\"Forge Signature\")"
   ]
  }
 ],
 "metadata": {
  "kernelspec": {
   "display_name": "Python 3 (ipykernel)",
   "language": "python",
   "name": "python3"
  },
  "language_info": {
   "codemirror_mode": {
    "name": "ipython",
    "version": 3
   },
   "file_extension": ".py",
   "mimetype": "text/x-python",
   "name": "python",
   "nbconvert_exporter": "python",
   "pygments_lexer": "ipython3",
   "version": "3.11.1"
  },
  "varInspector": {
   "cols": {
    "lenName": 16,
    "lenType": 16,
    "lenVar": 40
   },
   "kernels_config": {
    "python": {
     "delete_cmd_postfix": "",
     "delete_cmd_prefix": "del ",
     "library": "var_list.py",
     "varRefreshCmd": "print(var_dic_list())"
    },
    "r": {
     "delete_cmd_postfix": ") ",
     "delete_cmd_prefix": "rm(",
     "library": "var_list.r",
     "varRefreshCmd": "cat(var_dic_list()) "
    }
   },
   "types_to_exclude": [
    "module",
    "function",
    "builtin_function_or_method",
    "instance",
    "_Feature"
   ],
   "window_display": false
  }
 },
 "nbformat": 4,
 "nbformat_minor": 5
}
