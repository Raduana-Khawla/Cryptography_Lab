{
 "cells": [
  {
   "cell_type": "code",
   "execution_count": 41,
   "id": "c74ef304",
   "metadata": {},
   "outputs": [],
   "source": [
    "import random\n",
    "from random import randint\n",
    "from sympy import randprime\n",
    "\n",
    "plaintext = \"g\""
   ]
  },
  {
   "cell_type": "code",
   "execution_count": 42,
   "id": "8b4acc00",
   "metadata": {},
   "outputs": [
    {
     "data": {
      "text/plain": [
       "[5, 10, 30, 90, 270, 810, 2430]"
      ]
     },
     "execution_count": 42,
     "metadata": {},
     "output_type": "execute_result"
    }
   ],
   "source": [
    "superIncreasingTuple =[]\n",
    "superIncreasingTuple.append(5)\n",
    "\n",
    "for i in range(6):\n",
    "    value = sum(superIncreasingTuple)\n",
    "    superIncreasingTuple.append(value+value)\n",
    "superIncreasingTuple"
   ]
  },
  {
   "cell_type": "code",
   "execution_count": 43,
   "id": "fea9b429",
   "metadata": {},
   "outputs": [],
   "source": [
    "n = sum(superIncreasingTuple) + 100"
   ]
  },
  {
   "cell_type": "code",
   "execution_count": 44,
   "id": "e2053c8d",
   "metadata": {},
   "outputs": [],
   "source": [
    "r = randprime(2,n-1)"
   ]
  },
  {
   "cell_type": "code",
   "execution_count": 45,
   "id": "2eda4326",
   "metadata": {},
   "outputs": [
    {
     "name": "stdout",
     "output_type": "stream",
     "text": [
      "31 3745\n"
     ]
    }
   ],
   "source": [
    "print(r,n)\n",
    "temporary =[]\n",
    "for i in range(7):\n",
    "    value = (r*superIncreasingTuple[i]) % n\n",
    "    temporary.append(value)"
   ]
  },
  {
   "cell_type": "code",
   "execution_count": 46,
   "id": "1a4f010b",
   "metadata": {},
   "outputs": [],
   "source": [
    "permutation=random.sample(range(7),7)"
   ]
  },
  {
   "cell_type": "code",
   "execution_count": 47,
   "id": "a89aeefe",
   "metadata": {},
   "outputs": [
    {
     "name": "stdout",
     "output_type": "stream",
     "text": [
      "[6, 0, 3, 5, 2, 4, 1]\n",
      "[430, 155, 2790, 2640, 930, 880, 310]\n"
     ]
    }
   ],
   "source": [
    "print(permutation)\n",
    "permutated_temp=temporary.copy()\n",
    "for i in range(7):\n",
    "    permutated_temp[i] = temporary[permutation[i]]\n",
    "print(permutated_temp)"
   ]
  },
  {
   "cell_type": "code",
   "execution_count": 48,
   "id": "44855681",
   "metadata": {},
   "outputs": [
    {
     "name": "stdout",
     "output_type": "stream",
     "text": [
      "1100111\n",
      "2705\n"
     ]
    }
   ],
   "source": [
    "value = (bin(ord(plaintext[0]))[2:]).zfill(7)\n",
    "print(value)\n",
    "s = 0\n",
    "for i in range(7):\n",
    "    s += int(value[i])*permutated_temp[i]\n",
    "print(s)"
   ]
  },
  {
   "cell_type": "code",
   "execution_count": 51,
   "id": "607fe101",
   "metadata": {},
   "outputs": [
    {
     "name": "stdout",
     "output_type": "stream",
     "text": [
      "2745\n"
     ]
    }
   ],
   "source": [
    "newS = (pow(r,-1,n)*s) % n\n",
    "print(newS)"
   ]
  },
  {
   "cell_type": "code",
   "execution_count": 50,
   "id": "d22bce97",
   "metadata": {},
   "outputs": [
    {
     "name": "stdout",
     "output_type": "stream",
     "text": [
      "61\n"
     ]
    }
   ],
   "source": [
    "decryption =\"\"\n",
    "\n",
    "for i in range(6,-1,-1):\n",
    "    if newS >= superIncreasingTuple[i]:\n",
    "        newS = newS - superIncreasingTuple[i]\n",
    "        decryption += \"1\"\n",
    "    else:\n",
    "        decryption += \"0\"\n",
    "listt =[0]*7\n",
    "for i in range(7):\n",
    "    listt[permutation[i]] = decryption[i]\n",
    "    \n",
    "decryption = \"\".join(listt)\n",
    "print(int(decryption,2))"
   ]
  }
 ],
 "metadata": {
  "kernelspec": {
   "display_name": "Python 3 (ipykernel)",
   "language": "python",
   "name": "python3"
  },
  "language_info": {
   "codemirror_mode": {
    "name": "ipython",
    "version": 3
   },
   "file_extension": ".py",
   "mimetype": "text/x-python",
   "name": "python",
   "nbconvert_exporter": "python",
   "pygments_lexer": "ipython3",
   "version": "3.11.1"
  },
  "varInspector": {
   "cols": {
    "lenName": 16,
    "lenType": 16,
    "lenVar": 40
   },
   "kernels_config": {
    "python": {
     "delete_cmd_postfix": "",
     "delete_cmd_prefix": "del ",
     "library": "var_list.py",
     "varRefreshCmd": "print(var_dic_list())"
    },
    "r": {
     "delete_cmd_postfix": ") ",
     "delete_cmd_prefix": "rm(",
     "library": "var_list.r",
     "varRefreshCmd": "cat(var_dic_list()) "
    }
   },
   "types_to_exclude": [
    "module",
    "function",
    "builtin_function_or_method",
    "instance",
    "_Feature"
   ],
   "window_display": false
  }
 },
 "nbformat": 4,
 "nbformat_minor": 5
}
