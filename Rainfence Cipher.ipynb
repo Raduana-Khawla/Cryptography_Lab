{
 "cells": [
  {
   "cell_type": "code",
   "execution_count": 39,
   "id": "e0222778",
   "metadata": {},
   "outputs": [],
   "source": [
    "# Input.\n",
    "\n",
    "plaintext =\"aminulislamrafi\"\n",
    "round = 4\n",
    "cycle = (2*round) - 2"
   ]
  },
  {
   "cell_type": "code",
   "execution_count": 40,
   "id": "b87b315b",
   "metadata": {},
   "outputs": [
    {
     "name": "stdout",
     "output_type": "stream",
     "text": [
      "The corresponding ciphertext is : aiamlsrfiulmina\n"
     ]
    }
   ],
   "source": [
    "# Encryption.\n",
    "\n",
    "ciphertext =\"\"\n",
    "\n",
    "for i in range(round):\n",
    "    if i == 0:\n",
    "        index = i\n",
    "        while index < len(plaintext):\n",
    "            ciphertext += plaintext[index]\n",
    "            index += cycle\n",
    "    elif i == round - 1:\n",
    "        index = i\n",
    "        while index < len(plaintext):\n",
    "            ciphertext += plaintext[index]\n",
    "            index += cycle\n",
    "    else:\n",
    "        left_index = i\n",
    "        right_index = cycle-i\n",
    "        \n",
    "        while left_index < len(plaintext):\n",
    "            ciphertext += plaintext[left_index]\n",
    "            if right_index < len(plaintext):\n",
    "                ciphertext += plaintext[right_index]\n",
    "            left_index += cycle\n",
    "            right_index += cycle\n",
    "            \n",
    "print(\"The corresponding ciphertext is :\",ciphertext)"
   ]
  },
  {
   "cell_type": "code",
   "execution_count": 54,
   "id": "82854bb4",
   "metadata": {},
   "outputs": [
    {
     "name": "stdout",
     "output_type": "stream",
     "text": [
      "The corresponding ciphertext is : aminulislamrafi\n"
     ]
    }
   ],
   "source": [
    "# Decryption.\n",
    "\n",
    "plaintext = \".\"*len(ciphertext)\n",
    "\n",
    "rails_length = [0]*round\n",
    "\n",
    "units = len(ciphertext) // cycle\n",
    "\n",
    "# For Top Rail.\n",
    "rails_length[0] = units\n",
    "\n",
    "# For Bottom Rail.\n",
    "rails_length[round-1] = units\n",
    "\n",
    "# For intermediate Rail.\n",
    "for i in range(1,round-1):\n",
    "    rails_length[i] = 2*units\n",
    "    \n",
    "# If ciphertext is not completely divided by cycle.\n",
    "for i in range(len(ciphertext)%cycle):\n",
    "    if i < round:\n",
    "        rails_length[i] += 1\n",
    "    else:\n",
    "        rails_length[cycle-i] +=1\n",
    "\n",
    "# Replace the character of the top railfence.\n",
    "index = 0\n",
    "rail_offset = 0\n",
    "\n",
    "\n",
    "for c in ciphertext[:rails_length[0]]:\n",
    "    plaintext = plaintext[0:index]+c+plaintext[index+1:]\n",
    "    index += cycle\n",
    "rail_offset += rails_length[0]\n",
    "\n",
    "# Replace the character of the intermediate rail fence into the plaintext.\n",
    "# As intermediate has two character in each cycle so we need two pointer to indicate them.\n",
    "for i in range(1,depth-1):\n",
    "    left_index = i\n",
    "    right_index = cycle - i\n",
    "    left_char = True\n",
    "    \n",
    "    for c in ciphertext[rail_offset:rail_offset+rails_length[i]]:\n",
    "        if left_char:\n",
    "            plaintext = plaintext[:left_index]+c+plaintext[left_index+1:]\n",
    "            left_index += cycle\n",
    "            left_char = not left_char\n",
    "        else:\n",
    "            plaintext = plaintext[:right_index]+c+plaintext[right_index+1:]\n",
    "            right_index += cycle\n",
    "            left_char = not left_char\n",
    "    \n",
    "    # Updation rail offset value.\n",
    "    rail_offset += rails_length[i]\n",
    "\n",
    "# For bottom Rail.\n",
    "index = round-1\n",
    "for c in ciphertext[rail_offset:]:\n",
    "    plaintext = plaintext[:index]+c+plaintext[index+1:]\n",
    "    index += cycle\n",
    "\n",
    "print(\"The corresponding ciphertext is :\",plaintext)"
   ]
  }
 ],
 "metadata": {
  "kernelspec": {
   "display_name": "Python 3 (ipykernel)",
   "language": "python",
   "name": "python3"
  },
  "language_info": {
   "codemirror_mode": {
    "name": "ipython",
    "version": 3
   },
   "file_extension": ".py",
   "mimetype": "text/x-python",
   "name": "python",
   "nbconvert_exporter": "python",
   "pygments_lexer": "ipython3",
   "version": "3.11.1"
  },
  "varInspector": {
   "cols": {
    "lenName": 16,
    "lenType": 16,
    "lenVar": 40
   },
   "kernels_config": {
    "python": {
     "delete_cmd_postfix": "",
     "delete_cmd_prefix": "del ",
     "library": "var_list.py",
     "varRefreshCmd": "print(var_dic_list())"
    },
    "r": {
     "delete_cmd_postfix": ") ",
     "delete_cmd_prefix": "rm(",
     "library": "var_list.r",
     "varRefreshCmd": "cat(var_dic_list()) "
    }
   },
   "types_to_exclude": [
    "module",
    "function",
    "builtin_function_or_method",
    "instance",
    "_Feature"
   ],
   "window_display": false
  }
 },
 "nbformat": 4,
 "nbformat_minor": 5
}
