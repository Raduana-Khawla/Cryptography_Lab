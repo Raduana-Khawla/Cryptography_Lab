{
 "cells": [
  {
   "cell_type": "code",
   "execution_count": 45,
   "id": "40513c1b",
   "metadata": {},
   "outputs": [
    {
     "name": "stdout",
     "output_type": "stream",
     "text": [
      "Enter the value of a :9\n",
      "Enter the value of b :8\n",
      "Enter the value of n :7\n"
     ]
    }
   ],
   "source": [
    "from sympy import gcd\n",
    "# Coffecient.\n",
    "\n",
    "a = int(input(\"Enter the value of a :\"))\n",
    "b = int(input(\"Enter the value of b :\"))\n",
    "Orginaln = int(input(\"Enter the value of n :\"))"
   ]
  },
  {
   "cell_type": "code",
   "execution_count": 46,
   "id": "cc367287",
   "metadata": {},
   "outputs": [
    {
     "name": "stdout",
     "output_type": "stream",
     "text": [
      "This equation has  1  Solution\n",
      "The  1  solution of the equation is : 4\n"
     ]
    }
   ],
   "source": [
    "d = gcd(Orginaln,a)\n",
    "if b % d == 0:\n",
    "    print(\"This equation has \",d,\" Solution\")\n",
    "    a = a//d\n",
    "    b = b//d\n",
    "    n = Orginaln//d\n",
    "    \n",
    "    x0 = (b*pow(a,-1,n)) % n\n",
    "    \n",
    "    i = 1\n",
    "    print(\"The \",i,\" solution of the equation is :\",x0)\n",
    "    for i in range(1,d):\n",
    "        x1 = x0 + (i*(Orginaln//2))\n",
    "        print(\"The \",(i+2),\" solution of the equation is :\",x1)\n",
    "        \n",
    "        \n",
    "else:\n",
    "    print(\"This equation does not have the solution\")"
   ]
  }
 ],
 "metadata": {
  "kernelspec": {
   "display_name": "Python 3 (ipykernel)",
   "language": "python",
   "name": "python3"
  },
  "language_info": {
   "codemirror_mode": {
    "name": "ipython",
    "version": 3
   },
   "file_extension": ".py",
   "mimetype": "text/x-python",
   "name": "python",
   "nbconvert_exporter": "python",
   "pygments_lexer": "ipython3",
   "version": "3.11.1"
  },
  "varInspector": {
   "cols": {
    "lenName": 16,
    "lenType": 16,
    "lenVar": 40
   },
   "kernels_config": {
    "python": {
     "delete_cmd_postfix": "",
     "delete_cmd_prefix": "del ",
     "library": "var_list.py",
     "varRefreshCmd": "print(var_dic_list())"
    },
    "r": {
     "delete_cmd_postfix": ") ",
     "delete_cmd_prefix": "rm(",
     "library": "var_list.r",
     "varRefreshCmd": "cat(var_dic_list()) "
    }
   },
   "types_to_exclude": [
    "module",
    "function",
    "builtin_function_or_method",
    "instance",
    "_Feature"
   ],
   "window_display": false
  }
 },
 "nbformat": 4,
 "nbformat_minor": 5
}
