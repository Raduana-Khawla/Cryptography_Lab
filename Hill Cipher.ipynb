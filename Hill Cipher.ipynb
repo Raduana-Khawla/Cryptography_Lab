{
 "cells": [
  {
   "cell_type": "code",
   "execution_count": 51,
   "id": "f46a8a39",
   "metadata": {},
   "outputs": [],
   "source": [
    "# Input.\n",
    "plaintext =\"aminul\"\n",
    "\n",
    "# key.\n",
    "key = \"BANGLADES\""
   ]
  },
  {
   "cell_type": "code",
   "execution_count": 52,
   "id": "5213c043",
   "metadata": {},
   "outputs": [],
   "source": [
    "# Find out the key size.\n",
    "i = 2\n",
    "while True:\n",
    "    if len(key) % i == 0:\n",
    "        row = len(key) // i\n",
    "        break\n",
    "    i += 1\n",
    "\n",
    "keyMatrix = np.zeros((row,row), dtype = int)\n",
    "# Fill the key.\n",
    "k = 0\n",
    "for i in range(row):\n",
    "    for j in range(row):\n",
    "        value = ord(key[k]) - 65\n",
    "        keyMatrix[i][j] = value\n",
    "        k += 1\n",
    "        \n",
    "# Find the inverse key matrix.\n",
    "adjKeyMatrix = np.round(np.linalg.inv(keyMatrix)*np.linalg.det(keyMatrix))\n",
    "deterMinent = int(np.round(np.linalg.det(keyMatrix)) % 26)\n",
    "inverseKeyMatrix = (pow(deterMinent,-1,26)*adjKeyMatrix) % 26"
   ]
  },
  {
   "cell_type": "code",
   "execution_count": 53,
   "id": "4acc5c7c",
   "metadata": {},
   "outputs": [
    {
     "name": "stdout",
     "output_type": "stream",
     "text": [
      "The corresponding cipher text is : SIOKED\n"
     ]
    }
   ],
   "source": [
    "# Encryption.\n",
    "\n",
    "# Padding character to plaintext.\n",
    "while (len(plaintext) % row != 0):\n",
    "    plaintext += \"z\"\n",
    "    \n",
    "ciphertext = \"\"\n",
    "i = 0\n",
    "k = 0\n",
    "while i < len(plaintext):\n",
    "    plainMatrix = np.zeros((row),dtype = int)\n",
    "    \n",
    "    for j in range(row):\n",
    "        plainMatrix[j] = ord(plaintext[k]) - 97\n",
    "        k += 1\n",
    "    result = np.matmul(plainMatrix,keyMatrix) % 26\n",
    "    \n",
    "    for j in range(row):\n",
    "        ciphertext += chr(result[j]+65)\n",
    "    i+=row\n",
    "print(\"The corresponding cipher text is :\",ciphertext)"
   ]
  },
  {
   "cell_type": "code",
   "execution_count": 54,
   "id": "bdb30d43",
   "metadata": {},
   "outputs": [
    {
     "name": "stdout",
     "output_type": "stream",
     "text": [
      "The corresponding plaintext is : aminul\n"
     ]
    }
   ],
   "source": [
    "# Decryption.\n",
    "\n",
    "i = 0\n",
    "k = 0\n",
    "plaintext = \"\"\n",
    "\n",
    "while i < len(ciphertext):\n",
    "    ciphMatrix = np.zeros((row),dtype = int)\n",
    "    \n",
    "    for j in range(row):\n",
    "        ciphMatrix[j] = ord(ciphertext[k]) - 65\n",
    "        k += 1\n",
    "        \n",
    "    result = (np.matmul(ciphMatrix,inverseKeyMatrix) % 26).astype(int)\n",
    "    \n",
    "    for j in range(row):\n",
    "        plaintext += chr(result[j]+97)\n",
    "        \n",
    "    i += row\n",
    "    \n",
    "print(\"The corresponding plaintext is :\",plaintext)"
   ]
  }
 ],
 "metadata": {
  "kernelspec": {
   "display_name": "Python 3 (ipykernel)",
   "language": "python",
   "name": "python3"
  },
  "language_info": {
   "codemirror_mode": {
    "name": "ipython",
    "version": 3
   },
   "file_extension": ".py",
   "mimetype": "text/x-python",
   "name": "python",
   "nbconvert_exporter": "python",
   "pygments_lexer": "ipython3",
   "version": "3.11.1"
  },
  "varInspector": {
   "cols": {
    "lenName": 16,
    "lenType": 16,
    "lenVar": 40
   },
   "kernels_config": {
    "python": {
     "delete_cmd_postfix": "",
     "delete_cmd_prefix": "del ",
     "library": "var_list.py",
     "varRefreshCmd": "print(var_dic_list())"
    },
    "r": {
     "delete_cmd_postfix": ") ",
     "delete_cmd_prefix": "rm(",
     "library": "var_list.r",
     "varRefreshCmd": "cat(var_dic_list()) "
    }
   },
   "types_to_exclude": [
    "module",
    "function",
    "builtin_function_or_method",
    "instance",
    "_Feature"
   ],
   "window_display": false
  }
 },
 "nbformat": 4,
 "nbformat_minor": 5
}
