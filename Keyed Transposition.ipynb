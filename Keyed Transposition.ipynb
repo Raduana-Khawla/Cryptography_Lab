{
 "cells": [
  {
   "cell_type": "code",
   "execution_count": 74,
   "id": "f647a7b4",
   "metadata": {},
   "outputs": [],
   "source": [
    "# Input.\n",
    "plaintext =\"aminul islam rafi\"\n",
    "\n",
    "# key.\n",
    "key = [4,1,3,2,0]"
   ]
  },
  {
   "cell_type": "code",
   "execution_count": 75,
   "id": "ff6ffbd4",
   "metadata": {},
   "outputs": [],
   "source": [
    "# Finding row and col for matrix and adding bogus letter.\n",
    "\n",
    "col = len(key)\n",
    "\n",
    "while len(plaintext) % col != 0:\n",
    "    plaintext += \"z\"\n",
    "\n",
    "row = len(plaintext) // col"
   ]
  },
  {
   "cell_type": "code",
   "execution_count": 76,
   "id": "53427b58",
   "metadata": {},
   "outputs": [
    {
     "name": "stdout",
     "output_type": "stream",
     "text": [
      "[[0 0 0 0 1]\n",
      " [0 1 0 0 0]\n",
      " [0 0 0 1 0]\n",
      " [0 0 1 0 0]\n",
      " [1 0 0 0 0]]\n"
     ]
    }
   ],
   "source": [
    "# Generating key matrix.\n",
    "\n",
    "k = 0\n",
    "keyMatrix = np.zeros((col,col),dtype = int)\n",
    "\n",
    "for j in range(col):\n",
    "    i = key[k]\n",
    "    keyMatrix[i][j] = 1\n",
    "    k += 1\n",
    "print(keyMatrix)     "
   ]
  },
  {
   "cell_type": "code",
   "execution_count": 77,
   "id": "767266b5",
   "metadata": {},
   "outputs": [
    {
     "name": "stdout",
     "output_type": "stream",
     "text": [
      "[[  0  12   8  13  20]\n",
      " [ 11 -65   8  18  11]\n",
      " [  0  12 -65  17   0]\n",
      " [  5   8  25  25  25]]\n",
      "[[ 20  12  13   8   0]\n",
      " [ 11 -65  18   8  11]\n",
      " [  0  12  17 -65   0]\n",
      " [ 25   8  25  25   5]]\n",
      "The corresponding ciphertext is : UMNIAL\u0000SILAMR\u0000AZIZZF\n"
     ]
    }
   ],
   "source": [
    "# Encryption.\n",
    "k=0\n",
    "ciphertext = \"\"\n",
    "plainMatrix = np.zeros((row,col),dtype = int)\n",
    "\n",
    "for i in range(row):\n",
    "    for j in range(col):\n",
    "        plainMatrix[i][j] = ord(plaintext[k]) - 97\n",
    "        k += 1\n",
    "print(plainMatrix)\n",
    "result = np.matmul(plainMatrix,keyMatrix)\n",
    "\n",
    "for i in range(row):\n",
    "    for j in range(col):\n",
    "        ciphertext += chr(result[i][j]+65)\n",
    "\n",
    "print(result)\n",
    "print(\"The corresponding ciphertext is :\",ciphertext)"
   ]
  },
  {
   "cell_type": "code",
   "execution_count": 80,
   "id": "5c68cc01",
   "metadata": {},
   "outputs": [
    {
     "name": "stdout",
     "output_type": "stream",
     "text": [
      "The corresponding plaintext is : aminul islam rafizzz\n"
     ]
    }
   ],
   "source": [
    "# Decryption.\n",
    "k = 0\n",
    "plaintext =\"\"\n",
    "cipherMatrix = np.zeros((row,col),dtype=int)\n",
    "\n",
    "for i in range(row):\n",
    "    for j in range(col):\n",
    "        cipherMatrix[i][j] = ord(ciphertext[k]) - 65\n",
    "        k += 1\n",
    "\n",
    "inverseKey = np.transpose(keyMatrix)\n",
    "\n",
    "result = np.matmul(cipherMatrix,inverseKey)\n",
    "\n",
    "for i in range(row):\n",
    "    for j in range(col):\n",
    "        plaintext += chr(result[i][j]+97)\n",
    "        \n",
    "print(\"The corresponding plaintext is :\",plaintext)"
   ]
  }
 ],
 "metadata": {
  "kernelspec": {
   "display_name": "Python 3 (ipykernel)",
   "language": "python",
   "name": "python3"
  },
  "language_info": {
   "codemirror_mode": {
    "name": "ipython",
    "version": 3
   },
   "file_extension": ".py",
   "mimetype": "text/x-python",
   "name": "python",
   "nbconvert_exporter": "python",
   "pygments_lexer": "ipython3",
   "version": "3.11.1"
  },
  "varInspector": {
   "cols": {
    "lenName": 16,
    "lenType": 16,
    "lenVar": 40
   },
   "kernels_config": {
    "python": {
     "delete_cmd_postfix": "",
     "delete_cmd_prefix": "del ",
     "library": "var_list.py",
     "varRefreshCmd": "print(var_dic_list())"
    },
    "r": {
     "delete_cmd_postfix": ") ",
     "delete_cmd_prefix": "rm(",
     "library": "var_list.r",
     "varRefreshCmd": "cat(var_dic_list()) "
    }
   },
   "types_to_exclude": [
    "module",
    "function",
    "builtin_function_or_method",
    "instance",
    "_Feature"
   ],
   "window_display": false
  }
 },
 "nbformat": 4,
 "nbformat_minor": 5
}
